{
    "metadata": {
        "kernelspec": {
            "name": "SQL",
            "display_name": "SQL",
            "language": "sql"
        },
        "language_info": {
            "name": "sql",
            "version": ""
        }
    },
    "nbformat_minor": 2,
    "nbformat": 4,
    "cells": [
        {
            "cell_type": "code",
            "source": [
                "SELECT SUM(FELNOTT_SZAM) AS 'Összes felnőtt',\r\n",
                "AVG(FELNOTT_SZAM) AS 'Átlag felnőtt',\r\n",
                "MAX(FELNOTT_SZAM) AS 'Max felnőtt',\r\n",
                "STDEV(FELNOTT_SZAM) AS 'Szórás'\r\n",
                "FROM Foglalas"
            ],
            "metadata": {
                "azdata_cell_guid": "ce81a4f2-1fc4-496a-8d2d-b5dc6c69ece4",
                "language": "sql",
                "tags": []
            },
            "outputs": [
                {
                    "output_type": "display_data",
                    "data": {
                        "text/html": "(1 row affected)"
                    },
                    "metadata": {}
                },
                {
                    "output_type": "display_data",
                    "data": {
                        "text/html": "Total execution time: 00:00:00.177"
                    },
                    "metadata": {}
                },
                {
                    "output_type": "execute_result",
                    "execution_count": 3,
                    "data": {
                        "application/vnd.dataresource+json": {
                            "schema": {
                                "fields": [
                                    {
                                        "name": "Összes felnőtt"
                                    },
                                    {
                                        "name": "Átlag felnőtt"
                                    },
                                    {
                                        "name": "Max felnőtt"
                                    },
                                    {
                                        "name": "Szórás"
                                    }
                                ]
                            },
                            "data": [
                                {
                                    "Összes felnőtt": "1736",
                                    "Átlag felnőtt": "1",
                                    "Max felnőtt": "4",
                                    "Szórás": "0,7115960746033938"
                                }
                            ]
                        },
                        "text/html": "<table><tr><th>Összes felnőtt</th><th>Átlag felnőtt</th><th>Max felnőtt</th><th>Szórás</th></tr><tr><td>1736</td><td>1</td><td>4</td><td>0,7115960746033938</td></tr></table>"
                    },
                    "metadata": {}
                }
            ],
            "execution_count": 3
        },
        {
            "cell_type": "code",
            "source": [
                "SELECT TOP 20 UGYFEL_FK AS 'Ügyfél', \r\n",
                "COUNT(*) AS 'Foglalások száma'\r\n",
                "FROM Foglalas\r\n",
                "GROUP BY UGYFEL_FK\r\n",
                "ORDER BY 2 DESC"
            ],
            "metadata": {
                "azdata_cell_guid": "26a50852-7eff-4abb-9590-102993ba5585",
                "language": "sql"
            },
            "outputs": [
                {
                    "output_type": "display_data",
                    "data": {
                        "text/html": "(20 rows affected)"
                    },
                    "metadata": {}
                },
                {
                    "output_type": "display_data",
                    "data": {
                        "text/html": "Total execution time: 00:00:00.118"
                    },
                    "metadata": {}
                },
                {
                    "output_type": "execute_result",
                    "metadata": {},
                    "execution_count": 6,
                    "data": {
                        "application/vnd.dataresource+json": {
                            "schema": {
                                "fields": [
                                    {
                                        "name": "Ügyfél"
                                    },
                                    {
                                        "name": "Foglalások száma"
                                    }
                                ]
                            },
                            "data": [
                                {
                                    "Ügyfél": "andras41",
                                    "Foglalások száma": "13"
                                },
                                {
                                    "Ügyfél": "ARONK",
                                    "Foglalások száma": "13"
                                },
                                {
                                    "Ügyfél": "krisztian4",
                                    "Foglalások száma": "12"
                                },
                                {
                                    "Ügyfél": "peter4",
                                    "Foglalások száma": "12"
                                },
                                {
                                    "Ügyfél": "sara",
                                    "Foglalások száma": "12"
                                },
                                {
                                    "Ügyfél": "zoltan4",
                                    "Foglalások száma": "12"
                                },
                                {
                                    "Ügyfél": "akos",
                                    "Foglalások száma": "10"
                                },
                                {
                                    "Ügyfél": "balazs2",
                                    "Foglalások száma": "10"
                                },
                                {
                                    "Ügyfél": "balint1",
                                    "Foglalások száma": "10"
                                },
                                {
                                    "Ügyfél": "eszter2",
                                    "Foglalások száma": "10"
                                },
                                {
                                    "Ügyfél": "kata",
                                    "Foglalások száma": "10"
                                },
                                {
                                    "Ügyfél": "ANIKOS",
                                    "Foglalások száma": "9"
                                },
                                {
                                    "Ügyfél": "BEATRIXK",
                                    "Foglalások száma": "9"
                                },
                                {
                                    "Ügyfél": "bence",
                                    "Foglalások száma": "9"
                                },
                                {
                                    "Ügyfél": "dani",
                                    "Foglalások száma": "9"
                                },
                                {
                                    "Ügyfél": "daniel",
                                    "Foglalások száma": "9"
                                },
                                {
                                    "Ügyfél": "david",
                                    "Foglalások száma": "9"
                                },
                                {
                                    "Ügyfél": "katalin",
                                    "Foglalások száma": "9"
                                },
                                {
                                    "Ügyfél": "katka",
                                    "Foglalások száma": "9"
                                },
                                {
                                    "Ügyfél": "norbert4",
                                    "Foglalások száma": "9"
                                }
                            ]
                        },
                        "text/html": [
                            "<table>",
                            "<tr><th>Ügyfél</th><th>Foglalások száma</th></tr>",
                            "<tr><td>andras41</td><td>13</td></tr>",
                            "<tr><td>ARONK</td><td>13</td></tr>",
                            "<tr><td>krisztian4</td><td>12</td></tr>",
                            "<tr><td>peter4</td><td>12</td></tr>",
                            "<tr><td>sara</td><td>12</td></tr>",
                            "<tr><td>zoltan4</td><td>12</td></tr>",
                            "<tr><td>akos</td><td>10</td></tr>",
                            "<tr><td>balazs2</td><td>10</td></tr>",
                            "<tr><td>balint1</td><td>10</td></tr>",
                            "<tr><td>eszter2</td><td>10</td></tr>",
                            "<tr><td>kata</td><td>10</td></tr>",
                            "<tr><td>ANIKOS</td><td>9</td></tr>",
                            "<tr><td>BEATRIXK</td><td>9</td></tr>",
                            "<tr><td>bence</td><td>9</td></tr>",
                            "<tr><td>dani</td><td>9</td></tr>",
                            "<tr><td>daniel</td><td>9</td></tr>",
                            "<tr><td>david</td><td>9</td></tr>",
                            "<tr><td>katalin</td><td>9</td></tr>",
                            "<tr><td>katka</td><td>9</td></tr>",
                            "<tr><td>norbert4</td><td>9</td></tr>",
                            "</table>"
                        ]
                    }
                }
            ],
            "execution_count": 6
        },
        {
            "cell_type": "code",
            "source": [
                "SELECT TOP 20 UGYFEL_FK AS 'Ügyfél', \r\n",
                "COUNT(*) AS 'Foglalások száma',\r\n",
                "AVG(DATEDIFF(DAY, METTOL, MEDDIG)) AS 'Foglalások átlagos hossza',\r\n",
                "COUNT(*)*AVG(DATEDIFF(DAY, METTOL, MEDDIG)) AS 'Összes foglalt nap'\r\n",
                "FROM Foglalas\r\n",
                "GROUP BY UGYFEL_FK\r\n",
                "ORDER BY 4 DESC, 3 DESC"
            ],
            "metadata": {
                "azdata_cell_guid": "eab87085-e3f2-49d1-b71f-050f9062fb7f",
                "language": "sql"
            },
            "outputs": [
                {
                    "output_type": "display_data",
                    "data": {
                        "text/html": "(20 rows affected)"
                    },
                    "metadata": {}
                },
                {
                    "output_type": "display_data",
                    "data": {
                        "text/html": "Total execution time: 00:00:00.037"
                    },
                    "metadata": {}
                },
                {
                    "output_type": "execute_result",
                    "metadata": {},
                    "execution_count": 8,
                    "data": {
                        "application/vnd.dataresource+json": {
                            "schema": {
                                "fields": [
                                    {
                                        "name": "Ügyfél"
                                    },
                                    {
                                        "name": "Foglalások száma"
                                    },
                                    {
                                        "name": "Foglalások átlagos hossza"
                                    },
                                    {
                                        "name": "Összes foglalt nap"
                                    }
                                ]
                            },
                            "data": [
                                {
                                    "Ügyfél": "eszter2",
                                    "Foglalások száma": "10",
                                    "Foglalások átlagos hossza": "8",
                                    "Összes foglalt nap": "80"
                                },
                                {
                                    "Ügyfél": "andras41",
                                    "Foglalások száma": "13",
                                    "Foglalások átlagos hossza": "4",
                                    "Összes foglalt nap": "52"
                                },
                                {
                                    "Ügyfél": "ARONK",
                                    "Foglalások száma": "13",
                                    "Foglalások átlagos hossza": "4",
                                    "Összes foglalt nap": "52"
                                },
                                {
                                    "Ügyfél": "krisztian4",
                                    "Foglalások száma": "12",
                                    "Foglalások átlagos hossza": "4",
                                    "Összes foglalt nap": "48"
                                },
                                {
                                    "Ügyfél": "peter4",
                                    "Foglalások száma": "12",
                                    "Foglalások átlagos hossza": "4",
                                    "Összes foglalt nap": "48"
                                },
                                {
                                    "Ügyfél": "zoltan4",
                                    "Foglalások száma": "12",
                                    "Foglalások átlagos hossza": "4",
                                    "Összes foglalt nap": "48"
                                },
                                {
                                    "Ügyfél": "ANIKOS",
                                    "Foglalások száma": "9",
                                    "Foglalások átlagos hossza": "5",
                                    "Összes foglalt nap": "45"
                                },
                                {
                                    "Ügyfél": "anett3",
                                    "Foglalások száma": "8",
                                    "Foglalások átlagos hossza": "5",
                                    "Összes foglalt nap": "40"
                                },
                                {
                                    "Ügyfél": "MATYASS",
                                    "Foglalások száma": "8",
                                    "Foglalások átlagos hossza": "5",
                                    "Összes foglalt nap": "40"
                                },
                                {
                                    "Ügyfél": "akos",
                                    "Foglalások száma": "10",
                                    "Foglalások átlagos hossza": "4",
                                    "Összes foglalt nap": "40"
                                },
                                {
                                    "Ügyfél": "balazs2",
                                    "Foglalások száma": "10",
                                    "Foglalások átlagos hossza": "4",
                                    "Összes foglalt nap": "40"
                                },
                                {
                                    "Ügyfél": "david",
                                    "Foglalások száma": "9",
                                    "Foglalások átlagos hossza": "4",
                                    "Összes foglalt nap": "36"
                                },
                                {
                                    "Ügyfél": "katalin",
                                    "Foglalások száma": "9",
                                    "Foglalások átlagos hossza": "4",
                                    "Összes foglalt nap": "36"
                                },
                                {
                                    "Ügyfél": "szilvia1",
                                    "Foglalások száma": "9",
                                    "Foglalások átlagos hossza": "4",
                                    "Összes foglalt nap": "36"
                                },
                                {
                                    "Ügyfél": "TAMASF",
                                    "Foglalások száma": "9",
                                    "Foglalások átlagos hossza": "4",
                                    "Összes foglalt nap": "36"
                                },
                                {
                                    "Ügyfél": "sara",
                                    "Foglalások száma": "12",
                                    "Foglalások átlagos hossza": "3",
                                    "Összes foglalt nap": "36"
                                },
                                {
                                    "Ügyfél": "GYONGYIK",
                                    "Foglalások száma": "7",
                                    "Foglalások átlagos hossza": "5",
                                    "Összes foglalt nap": "35"
                                },
                                {
                                    "Ügyfél": "JANOSG",
                                    "Foglalások száma": "7",
                                    "Foglalások átlagos hossza": "5",
                                    "Összes foglalt nap": "35"
                                },
                                {
                                    "Ügyfél": "SZILARDS",
                                    "Foglalások száma": "7",
                                    "Foglalások átlagos hossza": "5",
                                    "Összes foglalt nap": "35"
                                },
                                {
                                    "Ügyfél": "bernadett2",
                                    "Foglalások száma": "8",
                                    "Foglalások átlagos hossza": "4",
                                    "Összes foglalt nap": "32"
                                }
                            ]
                        },
                        "text/html": [
                            "<table>",
                            "<tr><th>Ügyfél</th><th>Foglalások száma</th><th>Foglalások átlagos hossza</th><th>Összes foglalt nap</th></tr>",
                            "<tr><td>eszter2</td><td>10</td><td>8</td><td>80</td></tr>",
                            "<tr><td>andras41</td><td>13</td><td>4</td><td>52</td></tr>",
                            "<tr><td>ARONK</td><td>13</td><td>4</td><td>52</td></tr>",
                            "<tr><td>krisztian4</td><td>12</td><td>4</td><td>48</td></tr>",
                            "<tr><td>peter4</td><td>12</td><td>4</td><td>48</td></tr>",
                            "<tr><td>zoltan4</td><td>12</td><td>4</td><td>48</td></tr>",
                            "<tr><td>ANIKOS</td><td>9</td><td>5</td><td>45</td></tr>",
                            "<tr><td>anett3</td><td>8</td><td>5</td><td>40</td></tr>",
                            "<tr><td>MATYASS</td><td>8</td><td>5</td><td>40</td></tr>",
                            "<tr><td>akos</td><td>10</td><td>4</td><td>40</td></tr>",
                            "<tr><td>balazs2</td><td>10</td><td>4</td><td>40</td></tr>",
                            "<tr><td>david</td><td>9</td><td>4</td><td>36</td></tr>",
                            "<tr><td>katalin</td><td>9</td><td>4</td><td>36</td></tr>",
                            "<tr><td>szilvia1</td><td>9</td><td>4</td><td>36</td></tr>",
                            "<tr><td>TAMASF</td><td>9</td><td>4</td><td>36</td></tr>",
                            "<tr><td>sara</td><td>12</td><td>3</td><td>36</td></tr>",
                            "<tr><td>GYONGYIK</td><td>7</td><td>5</td><td>35</td></tr>",
                            "<tr><td>JANOSG</td><td>7</td><td>5</td><td>35</td></tr>",
                            "<tr><td>SZILARDS</td><td>7</td><td>5</td><td>35</td></tr>",
                            "<tr><td>bernadett2</td><td>8</td><td>4</td><td>32</td></tr>",
                            "</table>"
                        ]
                    }
                }
            ],
            "execution_count": 8
        },
        {
            "cell_type": "code",
            "source": [
                "SELECT AVG(Len(UGYFEL_FK)) AS 'Ügyfélkód avg length'\r\n",
                "FROM Foglalas"
            ],
            "metadata": {
                "azdata_cell_guid": "276d0029-059e-47cc-af5c-154b23ee630d",
                "language": "sql"
            },
            "outputs": [],
            "execution_count": null
        }
    ]
}