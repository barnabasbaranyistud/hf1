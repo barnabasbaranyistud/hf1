{
    "metadata": {
        "kernelspec": {
            "name": "SQL",
            "display_name": "SQL",
            "language": "sql"
        },
        "language_info": {
            "name": "sql",
            "version": ""
        }
    },
    "nbformat_minor": 2,
    "nbformat": 4,
    "cells": [
        {
            "cell_type": "code",
            "source": [
                "SELECT SUM(FELNOTT_SZAM) AS 'Összes felnőtt',\r\n",
                "AVG(FELNOTT_SZAM) AS 'Átlag felnőtt',\r\n",
                "MAX(FELNOTT_SZAM) AS 'Max felnőtt',\r\n",
                "STDEV(FELNOTT_SZAM) AS 'Szórás'\r\n",
                "FROM Foglalas"
            ],
            "metadata": {
                "azdata_cell_guid": "ce81a4f2-1fc4-496a-8d2d-b5dc6c69ece4",
                "language": "sql",
                "tags": []
            },
            "outputs": [
                {
                    "output_type": "display_data",
                    "data": {
                        "text/html": "(1 row affected)"
                    },
                    "metadata": {}
                },
                {
                    "output_type": "display_data",
                    "data": {
                        "text/html": "Total execution time: 00:00:00.177"
                    },
                    "metadata": {}
                },
                {
                    "output_type": "execute_result",
                    "metadata": {},
                    "execution_count": 3,
                    "data": {
                        "application/vnd.dataresource+json": {
                            "schema": {
                                "fields": [
                                    {
                                        "name": "Összes felnőtt"
                                    },
                                    {
                                        "name": "Átlag felnőtt"
                                    },
                                    {
                                        "name": "Max felnőtt"
                                    },
                                    {
                                        "name": "Szórás"
                                    }
                                ]
                            },
                            "data": [
                                {
                                    "Összes felnőtt": "1736",
                                    "Átlag felnőtt": "1",
                                    "Max felnőtt": "4",
                                    "Szórás": "0,7115960746033938"
                                }
                            ]
                        },
                        "text/html": [
                            "<table>",
                            "<tr><th>Összes felnőtt</th><th>Átlag felnőtt</th><th>Max felnőtt</th><th>Szórás</th></tr>",
                            "<tr><td>1736</td><td>1</td><td>4</td><td>0,7115960746033938</td></tr>",
                            "</table>"
                        ]
                    }
                }
            ],
            "execution_count": 3
        },
        {
            "cell_type": "code",
            "source": [
                "SELECT TOP 20 UGYFEL_FK AS 'Ügyfél', \r\n",
                "COUNT(*)\r\n",
                "FROM Foglalas\r\n",
                "GROUP BY UGYFEL_FK\r\n",
                "ORDER BY 2 DESC"
            ],
            "metadata": {
                "azdata_cell_guid": "26a50852-7eff-4abb-9590-102993ba5585",
                "language": "sql"
            },
            "outputs": [
                {
                    "output_type": "display_data",
                    "data": {
                        "text/html": "(20 rows affected)"
                    },
                    "metadata": {}
                },
                {
                    "output_type": "display_data",
                    "data": {
                        "text/html": "Total execution time: 00:00:00.056"
                    },
                    "metadata": {}
                },
                {
                    "output_type": "execute_result",
                    "metadata": {},
                    "execution_count": 5,
                    "data": {
                        "application/vnd.dataresource+json": {
                            "schema": {
                                "fields": [
                                    {
                                        "name": "Ügyfél"
                                    },
                                    {
                                        "name": "(No column name)"
                                    }
                                ]
                            },
                            "data": [
                                {
                                    "Ügyfél": "andras41",
                                    "(No column name)": "13"
                                },
                                {
                                    "Ügyfél": "ARONK",
                                    "(No column name)": "13"
                                },
                                {
                                    "Ügyfél": "krisztian4",
                                    "(No column name)": "12"
                                },
                                {
                                    "Ügyfél": "peter4",
                                    "(No column name)": "12"
                                },
                                {
                                    "Ügyfél": "sara",
                                    "(No column name)": "12"
                                },
                                {
                                    "Ügyfél": "zoltan4",
                                    "(No column name)": "12"
                                },
                                {
                                    "Ügyfél": "akos",
                                    "(No column name)": "10"
                                },
                                {
                                    "Ügyfél": "balazs2",
                                    "(No column name)": "10"
                                },
                                {
                                    "Ügyfél": "balint1",
                                    "(No column name)": "10"
                                },
                                {
                                    "Ügyfél": "eszter2",
                                    "(No column name)": "10"
                                },
                                {
                                    "Ügyfél": "kata",
                                    "(No column name)": "10"
                                },
                                {
                                    "Ügyfél": "ANIKOS",
                                    "(No column name)": "9"
                                },
                                {
                                    "Ügyfél": "BEATRIXK",
                                    "(No column name)": "9"
                                },
                                {
                                    "Ügyfél": "bence",
                                    "(No column name)": "9"
                                },
                                {
                                    "Ügyfél": "dani",
                                    "(No column name)": "9"
                                },
                                {
                                    "Ügyfél": "daniel",
                                    "(No column name)": "9"
                                },
                                {
                                    "Ügyfél": "david",
                                    "(No column name)": "9"
                                },
                                {
                                    "Ügyfél": "katalin",
                                    "(No column name)": "9"
                                },
                                {
                                    "Ügyfél": "katka",
                                    "(No column name)": "9"
                                },
                                {
                                    "Ügyfél": "norbert4",
                                    "(No column name)": "9"
                                }
                            ]
                        },
                        "text/html": [
                            "<table>",
                            "<tr><th>Ügyfél</th><th>(No column name)</th></tr>",
                            "<tr><td>andras41</td><td>13</td></tr>",
                            "<tr><td>ARONK</td><td>13</td></tr>",
                            "<tr><td>krisztian4</td><td>12</td></tr>",
                            "<tr><td>peter4</td><td>12</td></tr>",
                            "<tr><td>sara</td><td>12</td></tr>",
                            "<tr><td>zoltan4</td><td>12</td></tr>",
                            "<tr><td>akos</td><td>10</td></tr>",
                            "<tr><td>balazs2</td><td>10</td></tr>",
                            "<tr><td>balint1</td><td>10</td></tr>",
                            "<tr><td>eszter2</td><td>10</td></tr>",
                            "<tr><td>kata</td><td>10</td></tr>",
                            "<tr><td>ANIKOS</td><td>9</td></tr>",
                            "<tr><td>BEATRIXK</td><td>9</td></tr>",
                            "<tr><td>bence</td><td>9</td></tr>",
                            "<tr><td>dani</td><td>9</td></tr>",
                            "<tr><td>daniel</td><td>9</td></tr>",
                            "<tr><td>david</td><td>9</td></tr>",
                            "<tr><td>katalin</td><td>9</td></tr>",
                            "<tr><td>katka</td><td>9</td></tr>",
                            "<tr><td>norbert4</td><td>9</td></tr>",
                            "</table>"
                        ]
                    }
                }
            ],
            "execution_count": 5
        }
    ]
}