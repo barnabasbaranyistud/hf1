{
    "metadata": {
        "kernelspec": {
            "name": "SQL",
            "display_name": "SQL",
            "language": "sql"
        },
        "language_info": {
            "name": "sql",
            "version": ""
        }
    },
    "nbformat_minor": 2,
    "nbformat": 4,
    "cells": [
        {
            "cell_type": "code",
            "source": [
                "SELECT SUM(FELNOTT_SZAM) AS 'Összes felnőtt',\r\n",
                "AVG(FELNOTT_SZAM) AS 'Átlag felnőtt',\r\n",
                "MAX(FELNOTT_SZAM) AS 'Max felnőtt',\r\n",
                "STDEV(FELNOTT_SZAM) AS 'Szórás'\r\n",
                "FROM Foglalas"
            ],
            "metadata": {
                "azdata_cell_guid": "ce81a4f2-1fc4-496a-8d2d-b5dc6c69ece4",
                "language": "sql",
                "tags": []
            },
            "outputs": [
                {
                    "output_type": "display_data",
                    "data": {
                        "text/html": "(1 row affected)"
                    },
                    "metadata": {}
                },
                {
                    "output_type": "display_data",
                    "data": {
                        "text/html": "Total execution time: 00:00:00.045"
                    },
                    "metadata": {}
                },
                {
                    "output_type": "execute_result",
                    "metadata": {},
                    "execution_count": 21,
                    "data": {
                        "application/vnd.dataresource+json": {
                            "schema": {
                                "fields": [
                                    {
                                        "name": "Összes felnőtt"
                                    },
                                    {
                                        "name": "Átlag felnőtt"
                                    },
                                    {
                                        "name": "Max felnőtt"
                                    },
                                    {
                                        "name": "Szórás"
                                    }
                                ]
                            },
                            "data": [
                                {
                                    "Összes felnőtt": "1736",
                                    "Átlag felnőtt": "1",
                                    "Max felnőtt": "4",
                                    "Szórás": "0,7115960746033938"
                                }
                            ]
                        },
                        "text/html": [
                            "<table>",
                            "<tr><th>Összes felnőtt</th><th>Átlag felnőtt</th><th>Max felnőtt</th><th>Szórás</th></tr>",
                            "<tr><td>1736</td><td>1</td><td>4</td><td>0,7115960746033938</td></tr>",
                            "</table>"
                        ]
                    }
                }
            ],
            "execution_count": 21
        },
        {
            "cell_type": "code",
            "source": [
                "SELECT TOP 20 UGYFEL_FK AS 'Ügyfél', \r\n",
                "COUNT(*) AS 'Foglalások száma'\r\n",
                "FROM Foglalas\r\n",
                "GROUP BY UGYFEL_FK\r\n",
                "ORDER BY 2 DESC"
            ],
            "metadata": {
                "azdata_cell_guid": "26a50852-7eff-4abb-9590-102993ba5585",
                "language": "sql"
            },
            "outputs": [
                {
                    "output_type": "display_data",
                    "data": {
                        "text/html": "(20 rows affected)"
                    },
                    "metadata": {}
                },
                {
                    "output_type": "display_data",
                    "data": {
                        "text/html": "Total execution time: 00:00:00.022"
                    },
                    "metadata": {}
                },
                {
                    "output_type": "execute_result",
                    "metadata": {},
                    "execution_count": 22,
                    "data": {
                        "application/vnd.dataresource+json": {
                            "schema": {
                                "fields": [
                                    {
                                        "name": "Ügyfél"
                                    },
                                    {
                                        "name": "Foglalások száma"
                                    }
                                ]
                            },
                            "data": [
                                {
                                    "Ügyfél": "andras41",
                                    "Foglalások száma": "13"
                                },
                                {
                                    "Ügyfél": "ARONK",
                                    "Foglalások száma": "13"
                                },
                                {
                                    "Ügyfél": "krisztian4",
                                    "Foglalások száma": "12"
                                },
                                {
                                    "Ügyfél": "peter4",
                                    "Foglalások száma": "12"
                                },
                                {
                                    "Ügyfél": "sara",
                                    "Foglalások száma": "12"
                                },
                                {
                                    "Ügyfél": "zoltan4",
                                    "Foglalások száma": "12"
                                },
                                {
                                    "Ügyfél": "akos",
                                    "Foglalások száma": "10"
                                },
                                {
                                    "Ügyfél": "balazs2",
                                    "Foglalások száma": "10"
                                },
                                {
                                    "Ügyfél": "balint1",
                                    "Foglalások száma": "10"
                                },
                                {
                                    "Ügyfél": "eszter2",
                                    "Foglalások száma": "10"
                                },
                                {
                                    "Ügyfél": "kata",
                                    "Foglalások száma": "10"
                                },
                                {
                                    "Ügyfél": "ANIKOS",
                                    "Foglalások száma": "9"
                                },
                                {
                                    "Ügyfél": "BEATRIXK",
                                    "Foglalások száma": "9"
                                },
                                {
                                    "Ügyfél": "bence",
                                    "Foglalások száma": "9"
                                },
                                {
                                    "Ügyfél": "dani",
                                    "Foglalások száma": "9"
                                },
                                {
                                    "Ügyfél": "daniel",
                                    "Foglalások száma": "9"
                                },
                                {
                                    "Ügyfél": "david",
                                    "Foglalások száma": "9"
                                },
                                {
                                    "Ügyfél": "katalin",
                                    "Foglalások száma": "9"
                                },
                                {
                                    "Ügyfél": "katka",
                                    "Foglalások száma": "9"
                                },
                                {
                                    "Ügyfél": "norbert4",
                                    "Foglalások száma": "9"
                                }
                            ]
                        },
                        "text/html": [
                            "<table>",
                            "<tr><th>Ügyfél</th><th>Foglalások száma</th></tr>",
                            "<tr><td>andras41</td><td>13</td></tr>",
                            "<tr><td>ARONK</td><td>13</td></tr>",
                            "<tr><td>krisztian4</td><td>12</td></tr>",
                            "<tr><td>peter4</td><td>12</td></tr>",
                            "<tr><td>sara</td><td>12</td></tr>",
                            "<tr><td>zoltan4</td><td>12</td></tr>",
                            "<tr><td>akos</td><td>10</td></tr>",
                            "<tr><td>balazs2</td><td>10</td></tr>",
                            "<tr><td>balint1</td><td>10</td></tr>",
                            "<tr><td>eszter2</td><td>10</td></tr>",
                            "<tr><td>kata</td><td>10</td></tr>",
                            "<tr><td>ANIKOS</td><td>9</td></tr>",
                            "<tr><td>BEATRIXK</td><td>9</td></tr>",
                            "<tr><td>bence</td><td>9</td></tr>",
                            "<tr><td>dani</td><td>9</td></tr>",
                            "<tr><td>daniel</td><td>9</td></tr>",
                            "<tr><td>david</td><td>9</td></tr>",
                            "<tr><td>katalin</td><td>9</td></tr>",
                            "<tr><td>katka</td><td>9</td></tr>",
                            "<tr><td>norbert4</td><td>9</td></tr>",
                            "</table>"
                        ]
                    }
                }
            ],
            "execution_count": 22
        },
        {
            "cell_type": "code",
            "source": [
                "SELECT TOP 20 UGYFEL_FK AS 'Ügyfél', \r\n",
                "COUNT(*) AS 'Foglalások száma',\r\n",
                "AVG(DATEDIFF(DAY, METTOL, MEDDIG)) AS 'Foglalások átlagos hossza',\r\n",
                "COUNT(*)*AVG(DATEDIFF(DAY, METTOL, MEDDIG)) AS 'Összes foglalt nap'\r\n",
                "FROM Foglalas\r\n",
                "GROUP BY UGYFEL_FK\r\n",
                "ORDER BY 4 DESC, 3 DESC"
            ],
            "metadata": {
                "azdata_cell_guid": "eab87085-e3f2-49d1-b71f-050f9062fb7f",
                "language": "sql"
            },
            "outputs": [
                {
                    "output_type": "display_data",
                    "data": {
                        "text/html": "(20 rows affected)"
                    },
                    "metadata": {}
                },
                {
                    "output_type": "display_data",
                    "data": {
                        "text/html": "Total execution time: 00:00:00.020"
                    },
                    "metadata": {}
                },
                {
                    "output_type": "execute_result",
                    "metadata": {},
                    "execution_count": 23,
                    "data": {
                        "application/vnd.dataresource+json": {
                            "schema": {
                                "fields": [
                                    {
                                        "name": "Ügyfél"
                                    },
                                    {
                                        "name": "Foglalások száma"
                                    },
                                    {
                                        "name": "Foglalások átlagos hossza"
                                    },
                                    {
                                        "name": "Összes foglalt nap"
                                    }
                                ]
                            },
                            "data": [
                                {
                                    "Ügyfél": "eszter2",
                                    "Foglalások száma": "10",
                                    "Foglalások átlagos hossza": "8",
                                    "Összes foglalt nap": "80"
                                },
                                {
                                    "Ügyfél": "andras41",
                                    "Foglalások száma": "13",
                                    "Foglalások átlagos hossza": "4",
                                    "Összes foglalt nap": "52"
                                },
                                {
                                    "Ügyfél": "ARONK",
                                    "Foglalások száma": "13",
                                    "Foglalások átlagos hossza": "4",
                                    "Összes foglalt nap": "52"
                                },
                                {
                                    "Ügyfél": "krisztian4",
                                    "Foglalások száma": "12",
                                    "Foglalások átlagos hossza": "4",
                                    "Összes foglalt nap": "48"
                                },
                                {
                                    "Ügyfél": "peter4",
                                    "Foglalások száma": "12",
                                    "Foglalások átlagos hossza": "4",
                                    "Összes foglalt nap": "48"
                                },
                                {
                                    "Ügyfél": "zoltan4",
                                    "Foglalások száma": "12",
                                    "Foglalások átlagos hossza": "4",
                                    "Összes foglalt nap": "48"
                                },
                                {
                                    "Ügyfél": "ANIKOS",
                                    "Foglalások száma": "9",
                                    "Foglalások átlagos hossza": "5",
                                    "Összes foglalt nap": "45"
                                },
                                {
                                    "Ügyfél": "anett3",
                                    "Foglalások száma": "8",
                                    "Foglalások átlagos hossza": "5",
                                    "Összes foglalt nap": "40"
                                },
                                {
                                    "Ügyfél": "MATYASS",
                                    "Foglalások száma": "8",
                                    "Foglalások átlagos hossza": "5",
                                    "Összes foglalt nap": "40"
                                },
                                {
                                    "Ügyfél": "akos",
                                    "Foglalások száma": "10",
                                    "Foglalások átlagos hossza": "4",
                                    "Összes foglalt nap": "40"
                                },
                                {
                                    "Ügyfél": "balazs2",
                                    "Foglalások száma": "10",
                                    "Foglalások átlagos hossza": "4",
                                    "Összes foglalt nap": "40"
                                },
                                {
                                    "Ügyfél": "david",
                                    "Foglalások száma": "9",
                                    "Foglalások átlagos hossza": "4",
                                    "Összes foglalt nap": "36"
                                },
                                {
                                    "Ügyfél": "katalin",
                                    "Foglalások száma": "9",
                                    "Foglalások átlagos hossza": "4",
                                    "Összes foglalt nap": "36"
                                },
                                {
                                    "Ügyfél": "szilvia1",
                                    "Foglalások száma": "9",
                                    "Foglalások átlagos hossza": "4",
                                    "Összes foglalt nap": "36"
                                },
                                {
                                    "Ügyfél": "TAMASF",
                                    "Foglalások száma": "9",
                                    "Foglalások átlagos hossza": "4",
                                    "Összes foglalt nap": "36"
                                },
                                {
                                    "Ügyfél": "sara",
                                    "Foglalások száma": "12",
                                    "Foglalások átlagos hossza": "3",
                                    "Összes foglalt nap": "36"
                                },
                                {
                                    "Ügyfél": "GYONGYIK",
                                    "Foglalások száma": "7",
                                    "Foglalások átlagos hossza": "5",
                                    "Összes foglalt nap": "35"
                                },
                                {
                                    "Ügyfél": "JANOSG",
                                    "Foglalások száma": "7",
                                    "Foglalások átlagos hossza": "5",
                                    "Összes foglalt nap": "35"
                                },
                                {
                                    "Ügyfél": "SZILARDS",
                                    "Foglalások száma": "7",
                                    "Foglalások átlagos hossza": "5",
                                    "Összes foglalt nap": "35"
                                },
                                {
                                    "Ügyfél": "bernadett2",
                                    "Foglalások száma": "8",
                                    "Foglalások átlagos hossza": "4",
                                    "Összes foglalt nap": "32"
                                }
                            ]
                        },
                        "text/html": [
                            "<table>",
                            "<tr><th>Ügyfél</th><th>Foglalások száma</th><th>Foglalások átlagos hossza</th><th>Összes foglalt nap</th></tr>",
                            "<tr><td>eszter2</td><td>10</td><td>8</td><td>80</td></tr>",
                            "<tr><td>andras41</td><td>13</td><td>4</td><td>52</td></tr>",
                            "<tr><td>ARONK</td><td>13</td><td>4</td><td>52</td></tr>",
                            "<tr><td>krisztian4</td><td>12</td><td>4</td><td>48</td></tr>",
                            "<tr><td>peter4</td><td>12</td><td>4</td><td>48</td></tr>",
                            "<tr><td>zoltan4</td><td>12</td><td>4</td><td>48</td></tr>",
                            "<tr><td>ANIKOS</td><td>9</td><td>5</td><td>45</td></tr>",
                            "<tr><td>anett3</td><td>8</td><td>5</td><td>40</td></tr>",
                            "<tr><td>MATYASS</td><td>8</td><td>5</td><td>40</td></tr>",
                            "<tr><td>akos</td><td>10</td><td>4</td><td>40</td></tr>",
                            "<tr><td>balazs2</td><td>10</td><td>4</td><td>40</td></tr>",
                            "<tr><td>david</td><td>9</td><td>4</td><td>36</td></tr>",
                            "<tr><td>katalin</td><td>9</td><td>4</td><td>36</td></tr>",
                            "<tr><td>szilvia1</td><td>9</td><td>4</td><td>36</td></tr>",
                            "<tr><td>TAMASF</td><td>9</td><td>4</td><td>36</td></tr>",
                            "<tr><td>sara</td><td>12</td><td>3</td><td>36</td></tr>",
                            "<tr><td>GYONGYIK</td><td>7</td><td>5</td><td>35</td></tr>",
                            "<tr><td>JANOSG</td><td>7</td><td>5</td><td>35</td></tr>",
                            "<tr><td>SZILARDS</td><td>7</td><td>5</td><td>35</td></tr>",
                            "<tr><td>bernadett2</td><td>8</td><td>4</td><td>32</td></tr>",
                            "</table>"
                        ]
                    }
                }
            ],
            "execution_count": 23
        },
        {
            "cell_type": "code",
            "source": [
                "SELECT COUNT(DISTINCT UGYFEL_FK) AS 'Sum of Distinct_FK',\r\n",
                "AVG(len(UGYFEL_FK)) AS 'Avg_FK length',\r\n",
                "MIN(len(UGYFEL_FK)) AS 'Min_FK length',\r\n",
                "MAX(len(UGYFEL_FK)) AS 'Max_FK length'\r\n",
                "FROM Foglalas"
            ],
            "metadata": {
                "azdata_cell_guid": "276d0029-059e-47cc-af5c-154b23ee630d",
                "language": "sql"
            },
            "outputs": [
                {
                    "output_type": "display_data",
                    "data": {
                        "text/html": "(1 row affected)"
                    },
                    "metadata": {}
                },
                {
                    "output_type": "display_data",
                    "data": {
                        "text/html": "Total execution time: 00:00:00.022"
                    },
                    "metadata": {}
                },
                {
                    "output_type": "execute_result",
                    "metadata": {},
                    "execution_count": 24,
                    "data": {
                        "application/vnd.dataresource+json": {
                            "schema": {
                                "fields": [
                                    {
                                        "name": "Sum of Distinct_FK"
                                    },
                                    {
                                        "name": "Avg_FK length"
                                    },
                                    {
                                        "name": "Min_FK length"
                                    },
                                    {
                                        "name": "Max_FK length"
                                    }
                                ]
                            },
                            "data": [
                                {
                                    "Sum of Distinct_FK": "195",
                                    "Avg_FK length": "6",
                                    "Min_FK length": "3",
                                    "Max_FK length": "11"
                                }
                            ]
                        },
                        "text/html": [
                            "<table>",
                            "<tr><th>Sum of Distinct_FK</th><th>Avg_FK length</th><th>Min_FK length</th><th>Max_FK length</th></tr>",
                            "<tr><td>195</td><td>6</td><td>3</td><td>11</td></tr>",
                            "</table>"
                        ]
                    }
                }
            ],
            "execution_count": 24
        },
        {
            "cell_type": "markdown",
            "source": [
                "Az 1. lekérdezésben látszik, hogy mennyi felnőtt részére volt szállás foglalva, mennyi volt a felnőttek átlagos és maximum száma, valamint az átlagtól való eltérés, azaz szórás is\n",
                "\n",
                "A 2. lekérdezésben a legtöbb foglalással rendelkező ügyfelek láthatók, a 20 legtöbbet foglaló ügyfél kódja, és a foglalások száma.  \n",
                "<span style=\"color: var(--vscode-foreground);\">A 3. lekérdezésben ezt pontosítottam úgy, hogy nem a foglalások számát, hanem a foglalt napok számát néztem meg, így megtudhatjuk, hogy ténylegesen ki töltött a legtöbb időt a szálláshelyeken (szintén a 20 legtöbb időt töltött személy szerepel itt.).</span>\n",
                "\n",
                "![](data:image/png;base64,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)<span style=\"color: var(--vscode-foreground);\"><br></span>\n",
                "\n",
                "<span style=\"color: var(--vscode-foreground);\">A 4. lekérdezésben megnéztem hány különböző ügyfél foglalt szállást, illetve, hogy az ügyfélkód milyen hosszú a foglalóknál. (átlag, min, max)</span>"
            ],
            "metadata": {
                "azdata_cell_guid": "a79dcd97-edba-4f5b-8811-f1499cbe857f"
            },
            "attachments": {}
        }
    ]
}